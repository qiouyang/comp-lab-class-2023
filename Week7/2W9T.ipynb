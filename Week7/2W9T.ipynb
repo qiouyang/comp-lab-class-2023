{
 "cells": [
  {
   "cell_type": "markdown",
   "metadata": {},
   "source": [
    "### Goal: use alphafold to predict structures, and learn how to use VMD to visualize these structures"
   ]
  },
  {
   "cell_type": "markdown",
   "metadata": {},
   "source": [
    "1. Get assigned one protein (E) DHFR, 2W9T\n",
    "\t- https://www.rcsb.org/structure/2w9t\n",
    "\t- Read about the function of this protein\n",
    "\t- Figure out how many amino acids there are"
   ]
  },
  {
   "cell_type": "markdown",
   "metadata": {},
   "source": [
    "2. Get the sequence in fasta file format and PDB file format into your Inputs/ folder"
   ]
  },
  {
   "cell_type": "markdown",
   "metadata": {},
   "source": [
    "3. Copy the script /scratch/work/public/apps/alphafold/test-2.2.0/run-test.SBATCH to your directory, edit and submit it to predict from your chosen fasta file\n",
    "\n",
    "    `cp /scratch/work/public/apps/alphafold/test-2.2.0/run-test.SBATCH /home/qo210/comp-lab-class/comp-lab-class-2023-new/Week7/Inputs`"
   ]
  },
  {
   "cell_type": "markdown",
   "metadata": {},
   "source": [
    "4. Start running your sequence through ColabFold: https://colab.research.google.com/github/sokrypton/ColabFold/blob/main/AlphaFold2.ipynb; When done download all results and add to your folder on Greene\n",
    "\n",
    "    `unzip 2W9T_ColabFold.zip`"
   ]
  },
  {
   "cell_type": "markdown",
   "metadata": {},
   "source": [
    "5. Do the VMD tutorial from \"Working with a Single Molecule\" through \"Working with Multiple Molecules\", https://www.ks.uiuc.edu/Training/Tutorials/vmd/tutorial-html/"
   ]
  },
  {
   "cell_type": "markdown",
   "metadata": {},
   "source": [
    "6. Load the crystal structure, colabfold structure, and best greene alphafold structure in VMD, and render each in different colors, save to your Figures directory. Put a note describing which is which based on color."
   ]
  },
  {
   "cell_type": "markdown",
   "metadata": {},
   "source": []
  }
 ],
 "metadata": {
  "kernelspec": {
   "display_name": "lab_env_2023",
   "language": "python",
   "name": "lab_env_2023"
  },
  "language_info": {
   "name": "python",
   "version": "3.9.12"
  },
  "orig_nbformat": 4
 },
 "nbformat": 4,
 "nbformat_minor": 2
}
