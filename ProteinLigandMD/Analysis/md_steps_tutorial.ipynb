{
 "cells": [
  {
   "cell_type": "markdown",
   "metadata": {},
   "source": [
    "## GROMACS Tutorial\n",
    "### http://www.mdtutorials.com/gmx/complex/01_pdb2gmx.html"
   ]
  },
  {
   "cell_type": "markdown",
   "metadata": {},
   "source": [
    "### Step 1-1: Prepare the Protein Topology"
   ]
  },
  {
   "cell_type": "code",
   "execution_count": null,
   "metadata": {},
   "outputs": [],
   "source": [
    "srun --cpus-per-task=8 --mem=8GB --time=03:00:00 --pty /bin/bash"
   ]
  },
  {
   "cell_type": "code",
   "execution_count": null,
   "metadata": {},
   "outputs": [],
   "source": [
    "# downloaded the structure\n",
    "wget http://www.mdtutorials.com/gmx/complex/Files/3HTB_clean.pdb"
   ]
  },
  {
   "cell_type": "code",
   "execution_count": null,
   "metadata": {},
   "outputs": [],
   "source": [
    "# save the protein and JZ4 ligand into separate coordinate files\n",
    "grep JZ4 3HTB_clean.pdb > jz4.pdb"
   ]
  },
  {
   "cell_type": "code",
   "execution_count": null,
   "metadata": {},
   "outputs": [],
   "source": [
    "# Manually delete the JZ4 lines from 3HTB_clean.pdb\n",
    "\n",
    "# HETATM 1376  C4  JZ4 A 167      24.294 -24.124  -0.071  1.00 16.39           C  \n",
    "# HETATM 1377  C7  JZ4 A 167      21.553 -27.214  -4.112  1.00 16.92           C  \n",
    "# HETATM 1378  C8  JZ4 A 167      22.068 -26.747  -5.331  1.00 14.84           C  \n",
    "# HETATM 1379  C9  JZ4 A 167      22.671 -25.512  -5.448  1.00 15.93           C  \n",
    "# HETATM 1380  C10 JZ4 A 167      22.769 -24.730  -4.295  1.00 15.43           C  \n",
    "# HETATM 1381  C11 JZ4 A 167      21.693 -26.459  -2.954  1.00 16.72           C  \n",
    "# HETATM 1382  C12 JZ4 A 167      22.294 -25.187  -3.075  1.00 14.13           C  \n",
    "# HETATM 1383  C13 JZ4 A 167      22.463 -24.414  -1.808  1.00 15.94           C  \n",
    "# HETATM 1384  C14 JZ4 A 167      23.925 -24.704  -1.394  1.00 15.28           C  \n",
    "# HETATM 1385  OAB JZ4 A 167      23.412 -23.536  -4.342  1.00 13.88           O  "
   ]
  },
  {
   "cell_type": "code",
   "execution_count": null,
   "metadata": {},
   "outputs": [],
   "source": [
    "# download the latest CHARMM36 force field tarball and the \"cgenff_charmm2gmx.py\" conversion script\n",
    "wget https://mackerell.umaryland.edu/download.php?filename=CHARMM_ff_params_files/charmm36-jul2022.ff.tgz\n",
    "wget https://mackerell.umaryland.edu/download.php?filename=CHARMM_ff_params_files/cgenff_charmm2gmx_py3_nx2.py\n",
    "\n",
    "# Unarchive the force field tarball\n",
    "tar -zxvf charmm36-jul2022.ff.tgz"
   ]
  },
  {
   "cell_type": "code",
   "execution_count": null,
   "metadata": {},
   "outputs": [],
   "source": [
    "module load gromacs/openmpi/intel/2020.4"
   ]
  },
  {
   "cell_type": "code",
   "execution_count": null,
   "metadata": {},
   "outputs": [],
   "source": [
    "gmx_mpi pdb2gmx -f 3HTB_clean.pdb -o 3HTB_processed.gro -ter\n",
    "\n",
    "# Select the Force Field:                1: CHARMM all-atom force field\n",
    "# Select the Water Model:                1: TIP3P      CHARMM-modified TIP3P water model (recommended over original TIP3P)\n",
    "# Select start terminus type for MET-1:  1: NH3+\n",
    "# Start terminus MET-1: NH3+             0: COO-"
   ]
  },
  {
   "cell_type": "markdown",
   "metadata": {},
   "source": [
    "### Step 1-2 : Prepare the Ligand Topology"
   ]
  },
  {
   "cell_type": "code",
   "execution_count": null,
   "metadata": {},
   "outputs": [],
   "source": [
    "# Download Avogadro program\n",
    "# Open jz4.pdb in Avogadro\n",
    "# from the \"Build\" menu, choose \"Add Hydrogens.\" Avogadro will build all of the H atoms onto the JZ4 ligand. \n",
    "# Save a .mol2 file (File -> Save As... and choose Sybyl Mol2 from the drop-down menu) named \"jz4.mol2.\"\n",
    "\n",
    "# open jz4.mol2 in plain-text editor\n",
    "# fix the residue names and numbers such that they are all the same\n",
    "# save"
   ]
  },
  {
   "cell_type": "code",
   "execution_count": null,
   "metadata": {},
   "outputs": [],
   "source": [
    "# fix strange bond order\n",
    "wget http://www.mdtutorials.com/gmx/complex/Files/sort_mol2_bonds.pl\n",
    "perl sort_mol2_bonds.pl jz4.mol2 jz4_fix.mol2"
   ]
  },
  {
   "cell_type": "code",
   "execution_count": null,
   "metadata": {},
   "outputs": [],
   "source": [
    "\"\"\"\n",
    "A poor ligand topology can lead to significant wasted time and unreliable results. \n",
    "# Always validate the topologies of newly parametrized species! \n",
    "# At minimum, check the magnitudes of charges and the atom types assigned to the ligand against existing moieties in the force field. \n",
    "\"\"\"\n",
    "\n",
    "# Generate the JZ4 Topology with CGenFF\n",
    "# Visit the CGenFF server, \n",
    "# log into your account\n",
    "# click \"Upload molecule\" at the top of the page. \n",
    "# Upload jz4_fix.mol2 and \n",
    "# Save its contents from your web browser into a file called \"jz4.str.\" \n",
    "\n",
    "# For consistency, download from the tutorial\n",
    "wget http://www.mdtutorials.com/gmx/complex/Files/jz4.str\n",
    "\n",
    "# The CHARMM stream file contains all of the topology information - atom types, charges, and bonded connectivity. \n",
    "# CGenFF also provides penalty scores for each parameter, that is, an assessment of how reliable the assigned parameter is. \n",
    "# Anything below 10 is considered acceptable for immediate use. \n",
    "# Values from 10 - 50 imply that some validation of the topology is warranted, \n",
    "# Any penalties larger than 50 generally require manual reparametrization. \n",
    "# This penalty scoring is one of the most important features of the CGenFF server."
   ]
  },
  {
   "cell_type": "code",
   "execution_count": null,
   "metadata": {},
   "outputs": [],
   "source": [
    "# version match with cgenff_charmm2gmx_py3_nx2.py\n",
    "pip install networkx==2.3\n",
    "python cgenff_charmm2gmx_py3_nx2.py JZ4 jz4_fix.mol2 jz4.str charmm36-jul2022.ff\n",
    "\n",
    "# This ligand introduces new bonded parameters and these parameters are written to a file called \"jz4.prm,\" which is in the format of a GROMACS .itp file. \n",
    "# The ligand topology is now written to \"jz4.itp,\" which contains the ligand [ moleculetype ] definition."
   ]
  },
  {
   "cell_type": "markdown",
   "metadata": {},
   "source": [
    "### Step 2: Build the Complex"
   ]
  },
  {
   "cell_type": "code",
   "execution_count": null,
   "metadata": {},
   "outputs": [],
   "source": [
    "gmx_mpi editconf -f jz4_ini.pdb -o jz4.gro"
   ]
  },
  {
   "cell_type": "code",
   "execution_count": null,
   "metadata": {},
   "outputs": [],
   "source": [
    "# Copy 3HTB_processed.gro to a new file to be manipulated, call it \"complex.gro,\" \n",
    "# Next, simply copy the coordinate section of jz4.gro and paste it into complex.gro\n",
    "# No space line in complex.gro between protein and ligand (atom 2615)"
   ]
  },
  {
   "cell_type": "code",
   "execution_count": null,
   "metadata": {},
   "outputs": [],
   "source": [
    "# Build the Topology\n",
    "\n",
    "# In topol.top file add\n",
    "\"\"\"\n",
    "; Include ligand topology\n",
    "#include \"jz4.itp\n",
    "\"\"\"\"\n",
    "\n",
    "\"\"\"\n",
    "; Include ligand parameters\n",
    "#include \"jz4.prm\"\n",
    "\"\"\"\n",
    "\n",
    "\"\"\"\n",
    "JZ4                 1\n",
    "\"\"\""
   ]
  },
  {
   "cell_type": "markdown",
   "metadata": {},
   "source": [
    "### Step 3 - Define Box and Solvate"
   ]
  },
  {
   "cell_type": "code",
   "execution_count": 1,
   "metadata": {},
   "outputs": [
    {
     "ename": "SyntaxError",
     "evalue": "invalid syntax (1709253273.py, line 1)",
     "output_type": "error",
     "traceback": [
      "\u001b[0;36m  Cell \u001b[0;32mIn [1], line 1\u001b[0;36m\u001b[0m\n\u001b[0;31m    gmx_mpi editconf -f complex.gro -o newbox.gro -bt dodecahedron -d 1.0\u001b[0m\n\u001b[0m            ^\u001b[0m\n\u001b[0;31mSyntaxError\u001b[0m\u001b[0;31m:\u001b[0m invalid syntax\n"
     ]
    }
   ],
   "source": [
    "\n",
    "gmx_mpi editconf -f complex.gro -o newbox.gro -bt dodecahedron -d 1.0\n",
    "gmx_mpi solvate -cp newbox.gro -cs spc216.gro -p topol.top -o solv.gro"
   ]
  },
  {
   "cell_type": "markdown",
   "metadata": {},
   "source": [
    "### Step 4 - Add Ions"
   ]
  },
  {
   "cell_type": "code",
   "execution_count": null,
   "metadata": {},
   "outputs": [],
   "source": [
    "# Use grompp to assemble a .tpr file, using any .mdp file.\n",
    "wget http://www.mdtutorials.com/gmx/complex/Files/ions.mdp\n",
    "\n",
    "gmx_mpi grompp -f ions.mdp -c solv.gro -p topol.top -o ions.tpr -maxwarn 100\n",
    "# gmx_mpi grompp -f ions.mdp -c solv.gro -p topol.top -o ions.tpr\n",
    "# Warning: atom name 2613 in topol.top and solv.gro does not match (OT1 - O1)\n",
    "# Warning: atom name 2614 in topol.top and solv.gro does not match (OT2 - O2)\n",
    "# WARNING 1 [file topol.top, line 24632]:\n",
    "#   2 non-matching atom names\n",
    "#   atom names from topol.top will be used\n",
    "#   atom names from solv.gro will be ignored\n",
    "\n",
    "\n",
    "# pass our .tpr file to genion:\n",
    "gmx_mpi genion -s ions.tpr -o solv_ions.gro -p topol.top -pname NA -nname CL -neutral\n",
    "# Select: Group 15 (SOL) has 30882 elements\n",
    "# In topol.top file \n",
    "# [ molecules ]\n",
    "# ; Compound        #mols\n",
    "# Protein_chain_A     1\n",
    "# JZ4                 1\n",
    "# SOL             10228\n",
    "# CL                  6"
   ]
  },
  {
   "cell_type": "markdown",
   "metadata": {},
   "source": [
    "### Step 5 - Energy Minimization"
   ]
  },
  {
   "cell_type": "code",
   "execution_count": null,
   "metadata": {},
   "outputs": [],
   "source": [
    "wget http://www.mdtutorials.com/gmx/complex/Files/em.mdp\n",
    "\n",
    "gmx_mpi grompp -f em.mdp -c solv_ions.gro -p topol.top -o em.tpr\n",
    "\n",
    "gmx_mpi mdrun -v -deffnm em\n",
    "# Steepest Descents converged to Fmax < 1000 in 151 steps\n",
    "# Potential Energy  = -4.9001400e+05\n",
    "# Maximum force     =  9.7044019e+02 on atom 2045\n",
    "# Norm of force     =  5.9329782e+01"
   ]
  },
  {
   "cell_type": "markdown",
   "metadata": {},
   "source": [
    "### Step 6 - Equilibration"
   ]
  },
  {
   "cell_type": "code",
   "execution_count": null,
   "metadata": {},
   "outputs": [],
   "source": [
    "# Applying restraints to the ligand\n",
    "# Generate a position restraint topology\n",
    "\n",
    "# First, create an index group for JZ4 that contains only its non-hydrogen atoms:\n",
    "gmx_mpi make_ndx -f jz4.gro -o index_jz4.ndx\n",
    " > 0 & ! a H*\n",
    " > q"
   ]
  },
  {
   "cell_type": "code",
   "execution_count": null,
   "metadata": {},
   "outputs": [],
   "source": [
    "# Then, execute the genrestr module and select this newly created index group\n",
    "gmx_mpi genrestr -f jz4.gro -n index_jz4.ndx -o posre_jz4.itp -fc 1000 1000 1000\n",
    "# Selected 3: 'System_&_!H*'"
   ]
  },
  {
   "cell_type": "code",
   "execution_count": null,
   "metadata": {},
   "outputs": [],
   "source": [
    "# Include information in the topol.top file\n",
    "\n",
    "\"\"\"\n",
    "; Ligand position restraints\n",
    "#ifdef POSRES\n",
    "#include \"posre_jz4.itp\"\n",
    "#endif\n",
    "\"\"\""
   ]
  },
  {
   "cell_type": "code",
   "execution_count": null,
   "metadata": {},
   "outputs": [],
   "source": [
    "# Treatment of temperature coupling groups\n",
    "# merges the protein and JZ4\n",
    "gmx_mpi make_ndx -f em.gro -o index.ndx\n",
    "> 1 | 13\n",
    "> q"
   ]
  },
  {
   "cell_type": "code",
   "execution_count": null,
   "metadata": {},
   "outputs": [],
   "source": [
    "# NVT equilibration\n",
    "wget http://www.mdtutorials.com/gmx/complex/Files/nvt.mdp\n",
    "gmx_mpi grompp -f nvt.mdp -c em.gro -r em.gro -p topol.top -n index.ndx -o nvt.tpr\n",
    "gmx_mpi mdrun -deffnm nvt\n",
    "\n",
    "# ls -l\n",
    "# -rw-rw-r--+ 1 qo210 qo210   805800 Dec 16 00:23  nvt.cpt\n",
    "# -rw-rw-r--+ 1 qo210 qo210    57656 Dec 16 00:23  nvt.edr\n",
    "# -rw-rw-r--+ 1 qo210 qo210  2312029 Dec 16 00:23  nvt.gro\n",
    "# -rw-rw-r--+ 1 qo210 qo210    84839 Dec 16 00:23  nvt.log"
   ]
  },
  {
   "cell_type": "code",
   "execution_count": null,
   "metadata": {},
   "outputs": [],
   "source": [
    "# NPT equilibration\n",
    "wget http://www.mdtutorials.com/gmx/complex/Files/npt.mdp\n",
    "gmx_mpi grompp -f npt.mdp -c nvt.gro -t nvt.cpt -r nvt.gro -p topol.top -n index.ndx -o npt.tpr\n",
    "gmx_mpi mdrun -deffnm npt"
   ]
  },
  {
   "cell_type": "markdown",
   "metadata": {},
   "source": [
    "### Step 7 - Production MD"
   ]
  },
  {
   "cell_type": "code",
   "execution_count": null,
   "metadata": {},
   "outputs": [],
   "source": [
    "gmx_mpi grompp -f md.mdp -c npt.gro -t npt.cpt -p topol.top -n index.ndx -o md_0_10.tpr\n",
    "gmx_mpi mdrun -deffnm md_0_10"
   ]
  },
  {
   "cell_type": "markdown",
   "metadata": {},
   "source": [
    "### Step 8 - Analysis - Analyzing Protein-Ligand Interactions and Ligand Dynamics"
   ]
  },
  {
   "cell_type": "code",
   "execution_count": null,
   "metadata": {},
   "outputs": [],
   "source": [
    "# Recentering and Rewrapping Coordinates\n",
    "gmx_mpi trjconv -s md_0_10.tpr -f md_0_10.xtc -o md_0_10_center.xtc -center -pbc mol -ur compact\n",
    "# Selected 1: 'Protein'\n",
    "# Selected 0: 'System'\n",
    "\n",
    "# extract the first frame (t = 0 ns) of the trajectory\n",
    "gmx_mpi trjconv -s md_0_10.tpr -f md_0_10_center.xtc -o start.pdb -dump 0\n",
    "# Selected 0: 'System'\n",
    "\n",
    "# perform rotational and translational fitting\n",
    "gmx_mpi trjconv -s md_0_10.tpr -f md_0_10_center.xtc -o md_0_10_fit.xtc -fit rot+trans\n",
    "# Selected 4: 'Backbone'                                                 \n",
    "# Selected 0: 'System'"
   ]
  },
  {
   "cell_type": "code",
   "execution_count": null,
   "metadata": {},
   "outputs": [],
   "source": [
    "# Analyzing Protein-Ligand Interactions and Ligand Dynamics\n",
    "gmx_mpi distance -s md_0_10.tpr -f md_0_10_center.xtc -select 'resname \"JZ4\" and name OAB plus resid 102 and name OE1' -oall\n",
    "\n",
    "#determining the presence of a hydrogen bond is the angle formed among the donor, hydrogen, and acceptor atoms\n",
    "gmx_mpi make_ndx -f em.gro -o index.ndx\n",
    "...\n",
    "> 13 & a OAB | a H12\n",
    "# Creates group 22(should be 23)\n",
    "# Copied index group 13 'JZ4'\n",
    "# Found 1 atoms with name OAB\n",
    "# Merged two groups with AND: 22 1 -> 1\n",
    "# Found 1 atoms with name H12\n",
    "# Merged two groups with OR: 1 1 -> 2\n",
    "# 22 JZ4_&_OAB_H12       :     2 atoms  (creates group 23)\n",
    "\n",
    "\n",
    "> 1 & r 102 & a OE1\n",
    "# Creates group 23 (should be 24)\n",
    "# Copied index group 1 'Protein'\n",
    "# Merged two groups with AND: 2614 17 -> 17\n",
    "# Found 14 atoms with name OE1\n",
    "# Merged two groups with AND: 17 14 -> 1\n",
    "# 23 Protein_&_r_102_&_OE1:     1 atoms\n",
    "\n",
    "# > 23 | 24\n",
    "> 22 | 23\n",
    "# Copied index group 22 'JZ4_&_OAB_H12'\n",
    "# Copied index group 23 'Protein_&_r_102_&_OE1'\n",
    "# Merged two groups with OR: 2 1 -> 3\n",
    "#  25 JZ4_&_OAB_H12_Protein_&_r_102_&_OE1:     3 atoms\n",
    "\n",
    "> q"
   ]
  },
  {
   "cell_type": "code",
   "execution_count": null,
   "metadata": {},
   "outputs": [],
   "source": [
    "# Analyze the angle formed by these three atoms using the angle module\n",
    "gmx_mpi angle -f md_0_10_center.xtc -n index.ndx -ov angle.xvg\n",
    "\n",
    "# Select a group: 25\n",
    "# Selected 25: 'JZ4_&_OAB_H12_Protein_&_r_102_&_OE1'\n",
    "# Last frame         15 time  150.000\n",
    "# Found points in the range from 20 to 113 (max 180)\n",
    "#  < angle >  = 42.1667\n",
    "\n",
    "# The outcome of the calculation is the acceptor-donor-hydrogen angle\n",
    "# To get the desired angle of donor-hydrogen-acceptor, \n",
    "# we would have to manually edit the index.ndx file in a text file to reorder the atom numbers \n",
    "# In the index.ndx file\n",
    "# [ JZ4_&_OAB_H12_Protein_&_r_102_&_OE1 ]\n",
    "# 1616 2624 2636\n",
    "# change to 2624 2636 1616"
   ]
  },
  {
   "cell_type": "code",
   "execution_count": null,
   "metadata": {},
   "outputs": [],
   "source": [
    "# Re-analyze the angle formed by these three atoms using the angle module\n",
    "gmx_mpi angle -f md_0_10_center.xtc -n index.ndx -ov angle.xvg\n",
    "\n",
    "# Select a group: 25\n",
    "# Selected 25: 'JZ4_&_OAB_H12_Protein_&_r_102_&_OE1'\n",
    "# Last frame         15 time  150.000\n",
    "\n",
    "# Back Off! I just backed up angle.xvg to ./#angle.xvg.1#\n",
    "# Found points in the range from 60 to 154 (max 180)\n",
    "#  < angle >  = 130.982"
   ]
  },
  {
   "cell_type": "code",
   "execution_count": null,
   "metadata": {},
   "outputs": [],
   "source": [
    "# To compute a heavy-atom RMSD of just JZ4, create a new index group for it:\n",
    "\n",
    "gmx_mpi make_ndx -f em.gro -n index.ndx\n",
    "\n",
    "> 13 & ! a H*\n",
    "# Copied index group 13 'JZ4'\n",
    "# Found 21901 atoms with name H*\n",
    "# Complemented group: 11605 atoms\n",
    "# Merged two groups with AND: 22 11605 -> 10\n",
    "\n",
    "#  26 JZ4_&_!H*           :    10 atoms\n",
    "\n",
    "> name 26 JZ4_Heavy\n",
    "\n",
    "> q"
   ]
  },
  {
   "cell_type": "code",
   "execution_count": null,
   "metadata": {},
   "outputs": [],
   "source": [
    "gmx_mpi rms -s em.tpr -f md_0_10_center.xtc -n index.ndx -tu ns -o rmsd_jz4.xvg\n",
    "\n",
    "# Selected 4: 'Backbone'\n",
    "# Selected 26: 'JZ4_Heavy'"
   ]
  },
  {
   "cell_type": "markdown",
   "metadata": {},
   "source": [
    "### Step 8 - Analysis - Protein-Ligand Interaction Energy"
   ]
  },
  {
   "cell_type": "code",
   "execution_count": null,
   "metadata": {},
   "outputs": [],
   "source": [
    "wget http://www.mdtutorials.com/gmx/complex/Files/ie.mdp"
   ]
  },
  {
   "cell_type": "code",
   "execution_count": null,
   "metadata": {},
   "outputs": [],
   "source": [
    "gmx_mpi grompp -f ie.mdp -c npt.gro -t npt.cpt -p topol.top -n index.ndx -o ie.tpr"
   ]
  },
  {
   "cell_type": "code",
   "execution_count": null,
   "metadata": {},
   "outputs": [],
   "source": [
    "gmx_mpi mdrun -deffnm ie -rerun md_0_10.xtc -nb cpu"
   ]
  },
  {
   "cell_type": "code",
   "execution_count": 2,
   "metadata": {},
   "outputs": [
    {
     "name": "stdout",
     "output_type": "stream",
     "text": [
      "/scratch/work/courses/CHEM-GA-2671-2023fa/students/qo210/comp-lab-class-2023/FinalProject_new\n"
     ]
    }
   ],
   "source": [
    "!pwd"
   ]
  }
 ],
 "metadata": {
  "kernelspec": {
   "display_name": "lab_env_2023",
   "language": "python",
   "name": "lab_env_2023"
  },
  "language_info": {
   "codemirror_mode": {
    "name": "ipython",
    "version": 3
   },
   "file_extension": ".py",
   "mimetype": "text/x-python",
   "name": "python",
   "nbconvert_exporter": "python",
   "pygments_lexer": "ipython3",
   "version": "3.9.12"
  }
 },
 "nbformat": 4,
 "nbformat_minor": 2
}
