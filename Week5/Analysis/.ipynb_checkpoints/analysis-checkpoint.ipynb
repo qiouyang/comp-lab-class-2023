{
 "cells": [
  {
   "cell_type": "code",
   "execution_count": 1,
   "metadata": {},
   "outputs": [
    {
     "name": "stdout",
     "output_type": "stream",
     "text": [
      "<mdtraj.Trajectory with 5001 frames, 22 atoms, 3 residues, and unitcells>\n",
      "[[-2.8562374]\n",
      " [-2.892416 ]\n",
      " [-2.434844 ]\n",
      " ...\n",
      " [-1.1850806]\n",
      " [-1.9277824]\n",
      " [-1.5449938]]\n",
      "[[ 2.791988 ]\n",
      " [-3.0748348]\n",
      " [ 2.5727918]\n",
      " ...\n",
      " [ 1.0069004]\n",
      " [ 2.719179 ]\n",
      " [ 1.0022421]]\n"
     ]
    }
   ],
   "source": [
    "import mdtraj as md\n",
    "\n",
    "# Load the Trajectory\n",
    "# 'top' argument specifies a topology file (e.g., a .'gro' file) that provides the atomic details for the trajectory.\n",
    "traj = md.load('../Data/alanine_T300.trr', top = '../Data/alanine_T300.gro')\n",
    "\n",
    "\n",
    "print(traj)\n",
    "phi_indices, phi_angles = md.compute_phi(traj)\n",
    "psi_indices, psi_angles = md.compute_psi(traj)\n",
    "\n",
    "\n",
    "print(phi_angles)\n",
    "print(psi_angles)"
   ]
  },
  {
   "cell_type": "code",
   "execution_count": 2,
   "metadata": {},
   "outputs": [],
   "source": [
    "phi_angles = md.compute_phi(traj, periodic=True)\n",
    "psi_angles = md.compute_psi(traj, periodic=True)"
   ]
  },
  {
   "cell_type": "code",
   "execution_count": null,
   "metadata": {},
   "outputs": [],
   "source": [
    "# compute phi and psi angles\n",
    "# ref: https://www.mdtraj.org/1.9.8.dev0/api/generated/mdtraj.compute_phi.html\n",
    "# ref: https://www.mdtraj.org/1.9.8.dev0/api/generated/mdtraj.compute_psi.html\n",
    "phi_angles = md.compute_phi(traj, periodic=True)\n",
    "psi_angles = md.compute_psi(traj, periodic=True)\n",
    "\n",
    "# check the value of phi\n",
    "print(\"phi\\n\",phi_angles)\n",
    "print(\"phi[0]\\n\",phi_angles[0])\n",
    "print(\"phi[1]\\n\",phi_angles[1])\n",
    "# print(\"phi[2]\\n\",phi[2])              # IndexError: tuple index out of range--- means that there's no phi[2]\n",
    "print(\"phi[1].shape\\n\",phi_angles[1].shape)\n",
    "\n",
    "# check the values of psi\n",
    "print(\"-----------------------------------------------\")\n",
    "print(\"psi\\n\",psi_angles)\n",
    "print(\"psi[0]\\n\",psi_angles[0])\n",
    "print(\"psi[1]\\n\",psi_angles[1])\n",
    "# print(\"phi[2]\\n\",psi[2])              # IndexError: tuple index out of range--- means that there's no psi[2]\n",
    "print(\"psi[1].shape\\n\",psi_angles[1].shape)"
   ]
  }
 ],
 "metadata": {
  "kernelspec": {
   "display_name": "Python 3 (ipykernel)",
   "language": "python",
   "name": "python3"
  },
  "language_info": {
   "codemirror_mode": {
    "name": "ipython",
    "version": 3
   },
   "file_extension": ".py",
   "mimetype": "text/x-python",
   "name": "python",
   "nbconvert_exporter": "python",
   "pygments_lexer": "ipython3",
   "version": "3.8.6"
  }
 },
 "nbformat": 4,
 "nbformat_minor": 2
}
