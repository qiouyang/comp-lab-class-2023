{
 "cells": [
  {
   "cell_type": "markdown",
   "metadata": {},
   "source": [
    "### PSIAPI TUTORIAL: USING PSI4 AS A PYTHON MODULE\n",
    "https://psicode.org/psi4manual/master/psiapi.html#I.-Basic-Input-Structure"
   ]
  },
  {
   "cell_type": "markdown",
   "metadata": {},
   "source": [
    "## Part 1\n",
    "### I. Basic Input Structure"
   ]
  },
  {
   "cell_type": "code",
   "execution_count": 1,
   "metadata": {},
   "outputs": [],
   "source": [
    "import psi4"
   ]
  },
  {
   "cell_type": "code",
   "execution_count": 2,
   "metadata": {},
   "outputs": [
    {
     "name": "stdout",
     "output_type": "stream",
     "text": [
      "CPU times: user 200 µs, sys: 166 µs, total: 366 µs\n",
      "Wall time: 429 µs\n"
     ]
    }
   ],
   "source": [
    "%%time\n",
    "psi4.core.set_output_file('output.dat', False)"
   ]
  },
  {
   "cell_type": "markdown",
   "metadata": {},
   "source": [
    "### II. Running a Basic Hartree-Fock Calculation"
   ]
  },
  {
   "cell_type": "code",
   "execution_count": 4,
   "metadata": {},
   "outputs": [
    {
     "name": "stdout",
     "output_type": "stream",
     "text": [
      "CPU times: user 377 ms, sys: 147 ms, total: 524 ms\n",
      "Wall time: 602 ms\n"
     ]
    },
    {
     "data": {
      "text/plain": [
       "-76.0266327350902"
      ]
     },
     "execution_count": 4,
     "metadata": {},
     "output_type": "execute_result"
    }
   ],
   "source": [
    "%%time\n",
    "\n",
    "#! Sample HF/cc-pVDZ H2O Computation\n",
    "psi4.core.set_output_file('H2O_output.dat', False)\n",
    "\n",
    "psi4.set_memory('500 MB')\n",
    "\n",
    "h2o = psi4.geometry(\"\"\"\n",
    "O\n",
    "H 1 0.96\n",
    "H 1 0.96 2 104.5\n",
    "\"\"\")\n",
    "\n",
    "psi4.energy('scf/cc-pvdz')"
   ]
  },
  {
   "cell_type": "code",
   "execution_count": 5,
   "metadata": {},
   "outputs": [
    {
     "name": "stdout",
     "output_type": "stream",
     "text": [
      "CPU times: user 325 ms, sys: 17 ms, total: 342 ms\n",
      "Wall time: 348 ms\n"
     ]
    },
    {
     "data": {
      "text/plain": [
       "-38.92533462893707"
      ]
     },
     "execution_count": 5,
     "metadata": {},
     "output_type": "execute_result"
    }
   ],
   "source": [
    "%%time\n",
    "# performs a calculation for the CH2 molecule using the UHF method with a 6-31G** basis set\n",
    "#! Sample UHF/6-31G** CH2 Computation\n",
    "psi4.core.set_output_file('CH2_output.dat', False)\n",
    "\n",
    "R = 1.075   # bond length in angstroms (Å)\n",
    "A = 133.93  # bond angle in degrees\n",
    "\n",
    "ch2 = psi4.geometry(\"\"\"\n",
    "0 3\n",
    "C\n",
    "H 1 {0}\n",
    "H 1 {0} 2 {1}\n",
    "\"\"\".format(R, A)  #The .format(R, A) replaces {0} with R and {1} with A.\n",
    ")\n",
    "\n",
    "psi4.set_options({'reference': 'uhf'})\n",
    "psi4.energy('scf/6-31g**')"
   ]
  },
  {
   "cell_type": "markdown",
   "metadata": {},
   "source": [
    "### III. Geometry Optimization and Vibrational Frequency Analysis"
   ]
  },
  {
   "cell_type": "code",
   "execution_count": 6,
   "metadata": {},
   "outputs": [
    {
     "name": "stdout",
     "output_type": "stream",
     "text": [
      "Optimizer: Optimization complete!\n",
      "CPU times: user 830 ms, sys: 46.6 ms, total: 877 ms\n",
      "Wall time: 895 ms\n"
     ]
    },
    {
     "data": {
      "text/plain": [
       "-76.02703272937481"
      ]
     },
     "execution_count": 6,
     "metadata": {},
     "output_type": "execute_result"
    }
   ],
   "source": [
    "%%time\n",
    "psi4.core.set_output_file('H2O_optimized_output.dat', False)\n",
    "psi4.set_options({'reference': 'rhf'})\n",
    "psi4.optimize('scf/cc-pvdz', molecule=h2o)"
   ]
  },
  {
   "cell_type": "code",
   "execution_count": 7,
   "metadata": {},
   "outputs": [
    {
     "name": "stdout",
     "output_type": "stream",
     "text": [
      "CPU times: user 1.11 s, sys: 68.9 ms, total: 1.18 s\n",
      "Wall time: 1.2 s\n"
     ]
    }
   ],
   "source": [
    "%%time\n",
    "psi4.core.set_output_file('H2O_optimized_frequency_output.dat', False)\n",
    "scf_e, scf_wfn = psi4.frequency('scf/cc-pvdz', molecule=h2o, return_wfn=True)"
   ]
  },
  {
   "cell_type": "markdown",
   "metadata": {},
   "source": [
    "### IV. Analysis of Intermolecular Interactions"
   ]
  },
  {
   "cell_type": "code",
   "execution_count": 8,
   "metadata": {},
   "outputs": [
    {
     "name": "stdout",
     "output_type": "stream",
     "text": [
      "CPU times: user 1.55 ms, sys: 0 ns, total: 1.55 ms\n",
      "Wall time: 1.87 ms\n"
     ]
    }
   ],
   "source": [
    "%%time\n",
    "# Example SAPT computation for ethene*ethyne (*i.e.*, ethylene*acetylene).\n",
    "# Test case 16 from S22 Database\n",
    "psi4.core.set_output_file('ethene_ethyne_output1.dat', False)\n",
    "\n",
    "dimer = psi4.geometry(\"\"\"\n",
    "0 1\n",
    "C   0.000000  -0.667578  -2.124659\n",
    "C   0.000000   0.667578  -2.124659\n",
    "H   0.923621  -1.232253  -2.126185\n",
    "H  -0.923621  -1.232253  -2.126185\n",
    "H  -0.923621   1.232253  -2.126185\n",
    "H   0.923621   1.232253  -2.126185\n",
    "--\n",
    "0 1\n",
    "C   0.000000   0.000000   2.900503\n",
    "C   0.000000   0.000000   1.693240\n",
    "H   0.000000   0.000000   0.627352\n",
    "H   0.000000   0.000000   3.963929\n",
    "units angstrom\n",
    "\"\"\")"
   ]
  },
  {
   "cell_type": "code",
   "execution_count": 9,
   "metadata": {},
   "outputs": [
    {
     "name": "stdout",
     "output_type": "stream",
     "text": [
      "CPU times: user 3.77 s, sys: 387 ms, total: 4.15 s\n",
      "Wall time: 4.4 s\n"
     ]
    },
    {
     "data": {
      "text/plain": [
       "-0.0022355823909805178"
      ]
     },
     "execution_count": 9,
     "metadata": {},
     "output_type": "execute_result"
    }
   ],
   "source": [
    "%%time\n",
    "psi4.core.set_output_file('ethene_ethyne_output.dat', False)\n",
    "psi4.set_options({'scf_type': 'df',\n",
    "                  'freeze_core': 'true'})\n",
    "\n",
    "psi4.energy('sapt0/jun-cc-pvdz', molecule=dimer)"
   ]
  },
  {
   "cell_type": "markdown",
   "metadata": {},
   "source": [
    "### V. Potential Surface Scans and Counterpoise Correction Made Easy"
   ]
  },
  {
   "cell_type": "code",
   "execution_count": 10,
   "metadata": {},
   "outputs": [
    {
     "name": "stdout",
     "output_type": "stream",
     "text": [
      "CP-corrected CCSD(T)/aug-cc-pVDZ Interaction Energies\n",
      "\n",
      "\n",
      "          R [Ang]                 E_int [kcal/mol]       \n",
      "---------------------------------------------------------\n",
      "            2.5                        0.758605\n",
      "            3.0                        0.015968\n",
      "            4.0                        -0.016215\n",
      "CPU times: user 5.73 s, sys: 1.68 s, total: 7.41 s\n",
      "Wall time: 10.7 s\n"
     ]
    }
   ],
   "source": [
    "%%time\n",
    "#! Example potential energy surface scan and CP-correction for Ne2\n",
    "psi4.core.set_output_file('Ne2_output.dat', False)\n",
    "\n",
    "ne2_geometry = \"\"\"\n",
    "Ne\n",
    "--\n",
    "Ne 1 {0}\n",
    "\"\"\"\n",
    "\n",
    "Rvals = [2.5, 3.0, 4.0]\n",
    "\n",
    "psi4.set_options({'freeze_core': 'true'})\n",
    "\n",
    "# Initialize a blank dictionary of counterpoise corrected energies\n",
    "# (Need this for the syntax below to work)\n",
    "\n",
    "ecp = {}\n",
    "\n",
    "for R in Rvals:\n",
    "    ne2 = psi4.geometry(ne2_geometry.format(R))\n",
    "    ecp[R] = psi4.energy('ccsd(t)/aug-cc-pvdz', bsse_type='cp', molecule=ne2)\n",
    "\n",
    "# Prints to screen\n",
    "print(\"CP-corrected CCSD(T)/aug-cc-pVDZ Interaction Energies\\n\\n\")\n",
    "print(\"          R [Ang]                 E_int [kcal/mol]       \")\n",
    "print(\"---------------------------------------------------------\")\n",
    "for R in Rvals:\n",
    "    e = ecp[R] * psi4.constants.hartree2kcalmol\n",
    "    print(\"            {:3.1f}                        {:1.6f}\".format(R, e))\n",
    "\n",
    "# Prints to output.dat\n",
    "psi4.core.print_out(\"CP-corrected CCSD(T)/aug-cc-pVDZ Interaction Energies\\n\\n\")\n",
    "psi4.core.print_out(\"          R [Ang]                 E_int [kcal/mol]       \\n\")\n",
    "psi4.core.print_out(\"---------------------------------------------------------\\n\")\n",
    "for R in Rvals:\n",
    "    e = ecp[R] * psi4.constants.hartree2kcalmol\n",
    "    psi4.core.print_out(\"            {:3.1f}                        {:1.6f}\\n\".format(R, e))"
   ]
  },
  {
   "cell_type": "markdown",
   "metadata": {},
   "source": [
    "## Part 2"
   ]
  },
  {
   "cell_type": "code",
   "execution_count": 8,
   "metadata": {},
   "outputs": [
    {
     "name": "stdout",
     "output_type": "stream",
     "text": [
      "CP-corrected CCSD(T)/aug-cc-pVDZ Interaction Energies\n",
      "\n",
      "           R [Ang]                 E_int [kcal/mol]\n",
      " ---------------------------------------------------------\n",
      "\n",
      "            3.5                        0.168852\n",
      "\n",
      "            3.8                        -0.069952\n",
      "\n",
      "            4.0                        -0.123122\n",
      "\n",
      "            4.2                        -0.116537\n",
      "\n",
      "            4.5                        -0.095162\n",
      "\n",
      "            4.8                        -0.073663\n",
      "\n",
      "            5.0                        -0.055927\n",
      "\n",
      "            5.2                        -0.042277\n",
      "\n",
      "            5.5                        -0.032054\n",
      "\n",
      "            5.8                        -0.024469\n",
      "\n",
      "            6.0                        -0.018843\n",
      "\n"
     ]
    },
    {
     "data": {
      "image/png": "[encoded data removed]",
      "text/plain": [
       "<Figure size 800x600 with 1 Axes>"
      ]
     },
     "metadata": {},
     "output_type": "display_data"
    }
   ],
   "source": [
    "import psi4\n",
    "import numpy as np\n",
    "import matplotlib.pyplot as plt\n",
    "from scipy.optimize import curve_fit\n",
    "\n",
    "# Function for Lennard-Jones potential\n",
    "def lj(r, sigma, eps):\n",
    "    return 4 * eps * ((sigma / r)**12 - (sigma / r)**6)\n",
    "\n",
    "# Set output file for Psi4\n",
    "psi4.set_output_file('Argon_output.dat', False)\n",
    "\n",
    "# Define Argon dimer geometry template\n",
    "ar_geometry_template = \"\"\"\n",
    "Ar\n",
    "--\n",
    "Ar 1 {}\n",
    "\"\"\"\n",
    "\n",
    "# Range of interatomic distances to scan\n",
    "Rvals = np.arange(3.5, 6.25, 0.25)\n",
    "\n",
    "# Set Psi4 options\n",
    "psi4.set_options({'freeze_core': True})\n",
    "\n",
    "# Calculate energies at different distances\n",
    "ecp = {}\n",
    "for R in Rvals:\n",
    "    ar2 = psi4.geometry(ar_geometry_template.format(R))\n",
    "    ecp[R] = psi4.energy('ccsd(t)/aug-cc-pvdz', bsse_type='cp', molecule=ar2)\n",
    "\n",
    "# Convert energies to kcal/mol and store in a list\n",
    "energy_list = [ecp[R] * psi4.constants.hartree2kcalmol for R in Rvals]\n",
    "\n",
    "# Fit the energies to Lennard-Jones potential\n",
    "popt, pcov = curve_fit(lj, Rvals, energy_list, p0=[3.5, 1.0])\n",
    "\n",
    "# Plotting the results\n",
    "plt.figure(figsize=(8, 6))\n",
    "plt.scatter(Rvals, energy_list, label=\"Calculated Energy kcal/mol\")\n",
    "plt.plot(Rvals, lj(Rvals, *popt), 'r--', label='LJ Fit')\n",
    "plt.legend()\n",
    "plt.xlabel('Distance (Å)')\n",
    "plt.ylabel('Energy (kcal/mol)')\n",
    "plt.title('Energy between two Argon atoms at varying distances')\n",
    "plt.savefig(\"argon_energy_curve.png\")\n",
    "\n",
    "# Print energies to console and output file\n",
    "header = \"CP-corrected CCSD(T)/aug-cc-pVDZ Interaction Energies\\n\\n\"\n",
    "format_line = \"          R [Ang]                 E_int [kcal/mol]\\n\"\n",
    "separator = \"---------------------------------------------------------\\n\"\n",
    "\n",
    "print(header, format_line, separator)\n",
    "psi4.core.print_out(header)\n",
    "psi4.core.print_out(format_line)\n",
    "psi4.core.print_out(separator)\n",
    "\n",
    "for R, E in zip(Rvals, energy_list):\n",
    "    line = f\"            {R:3.1f}                        {E:1.6f}\\n\"\n",
    "    print(line)\n",
    "    psi4.core.print_out(line)\n"
   ]
  }
 ],
 "metadata": {
  "kernelspec": {
   "display_name": "lab_env_2023",
   "language": "python",
   "name": "lab_env_2023"
  },
  "language_info": {
   "codemirror_mode": {
    "name": "ipython",
    "version": 3
   },
   "file_extension": ".py",
   "mimetype": "text/x-python",
   "name": "python",
   "nbconvert_exporter": "python",
   "pygments_lexer": "ipython3",
   "version": "3.9.12"
  }
 },
 "nbformat": 4,
 "nbformat_minor": 2
}
