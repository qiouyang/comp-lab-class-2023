{
 "cells": [
  {
   "cell_type": "markdown",
   "metadata": {},
   "source": [
    "Assignment for Week 3\n",
    "\n",
    "Do the Lysozyme tutorial for Gromacs on HPC, adapting as needed http://www.mdtutorials.com/gmx/lysozyme/index.html\n",
    "\n",
    "Instead of using the file names in the tutorial, try to give good file names rather than just e.g. em.gro\n",
    "\n",
    "At the end, run a 50 ns MD simulation, and then make a trajectory and gro file without water with the molecule wrapped in the box (check in VMD)\n",
    "\n",
    "Make all the plots in the tutorial within a Jupyter notebook.\n",
    "\n",
    "Organize your results as follows\n",
    "\n",
    "- Input: Put the inputs from the tutorial here in an organized way\n",
    "- Setup: Put the setup steps of your work here\n",
    "- Data: Put your 50ns trajectory without water here. Also put all the files you would need to run again here.\n",
    "- Analysis: Put jupyter notebooks for analyzing the trajectory here\n",
    "- Figures: Save you figures here"
   ]
  },
  {
   "cell_type": "code",
   "execution_count": 15,
   "metadata": {},
   "outputs": [
    {
     "ename": "SyntaxError",
     "evalue": "invalid syntax (<ipython-input-15-5a0a64b2c157>, line 1)",
     "output_type": "error",
     "traceback": [
      "\u001b[0;36m  File \u001b[0;32m\"<ipython-input-15-5a0a64b2c157>\"\u001b[0;36m, line \u001b[0;32m1\u001b[0m\n\u001b[0;31m    wegt http://www.mdtutorials.com/gmx/lysozyme/Files/ions.mdp\u001b[0m\n\u001b[0m         ^\u001b[0m\n\u001b[0;31mSyntaxError\u001b[0m\u001b[0;31m:\u001b[0m invalid syntax\n"
     ]
    }
   ],
   "source": [
    "wegt http://www.mdtutorials.com/gmx/lysozyme/Files/ions.mdp"
   ]
  },
  {
   "cell_type": "code",
   "execution_count": null,
   "metadata": {},
   "outputs": [],
   "source": []
  }
 ],
 "metadata": {
  "kernelspec": {
   "display_name": "Python 3",
   "language": "python",
   "name": "python3"
  },
  "language_info": {
   "codemirror_mode": {
    "name": "ipython",
    "version": 3
   },
   "file_extension": ".py",
   "mimetype": "text/x-python",
   "name": "python",
   "nbconvert_exporter": "python",
   "pygments_lexer": "ipython3",
   "version": "3.8.6"
  }
 },
 "nbformat": 4,
 "nbformat_minor": 4
}
