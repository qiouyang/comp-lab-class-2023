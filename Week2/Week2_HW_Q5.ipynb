{
 "cells": [
  {
   "cell_type": "markdown",
   "metadata": {},
   "source": [
    "## Week 2 - Question 5"
   ]
  },
  {
   "cell_type": "markdown",
   "metadata": {},
   "source": [
    "### Make a jupyter notebook that uses mdtraj to\n",
    "### a) Read in the ubiquitin structure"
   ]
  },
  {
   "cell_type": "code",
   "execution_count": 8,
   "metadata": {
    "scrolled": false
   },
   "outputs": [],
   "source": [
    "import mdtraj as md\n",
    "import numpy as np\n",
    "\n",
    "# Load the ubiquitin PDB file\n",
    "ubiquitin = md.load('Data/1UBQ_processed.pdb')"
   ]
  },
  {
   "cell_type": "code",
   "execution_count": 9,
   "metadata": {
    "scrolled": true
   },
   "outputs": [
    {
     "data": {
      "text/plain": [
       "'\\nUNDERSTAND THE PDB FILES\\n\\nATOM      1  N   MET A   1      27.340  24.430   2.614  1.00  0.00           N\\nATOM      2  H1  MET A   1      26.961  23.619   2.168  1.00  0.00            \\nATOM      3  H2  MET A   1      28.043  24.834   2.029  1.00  0.00            \\nATOM      4  H3  MET A   1      27.745  24.170   3.490  1.00  0.00            \\nATOM      5  CA  MET A   1      26.266  25.413   2.842  1.00  0.00           C\\nATOM      6  HA  MET A   1      25.866  25.617   1.948  1.00  0.00            \\nATOM      7  CB  MET A   1      25.112  24.880   3.649  1.00  0.00           C\\n\\nColumn 0: record type: ATOM\\nColumn 1: atom serial number\\nColumn 2: atom name: Carbon/Nitrogen/Oxygen + remoteness indicator + branch indicator\\n          example: CA2 = carbon α in branch 2\\nColumn 3: residue type: MET,Methionine)\\nColumn 4: chain identifier: A\\nColumn 5: residue sequence number\\nColumn 6: x\\nColumn 7: y\\nColumn 8: z\\nColumn 9: occupancy\\nColumn 10: temperature factor\\nColumn 11: element symbol\\n'"
      ]
     },
     "execution_count": 9,
     "metadata": {},
     "output_type": "execute_result"
    }
   ],
   "source": [
    "\"\"\"\n",
    "UNDERSTAND THE PDB FILES\n",
    "\n",
    "ATOM      1  N   MET A   1      27.340  24.430   2.614  1.00  0.00           N\n",
    "ATOM      2  H1  MET A   1      26.961  23.619   2.168  1.00  0.00            \n",
    "ATOM      3  H2  MET A   1      28.043  24.834   2.029  1.00  0.00            \n",
    "ATOM      4  H3  MET A   1      27.745  24.170   3.490  1.00  0.00            \n",
    "ATOM      5  CA  MET A   1      26.266  25.413   2.842  1.00  0.00           C\n",
    "ATOM      6  HA  MET A   1      25.866  25.617   1.948  1.00  0.00            \n",
    "ATOM      7  CB  MET A   1      25.112  24.880   3.649  1.00  0.00           C\n",
    "\n",
    "Column 0: record type: ATOM\n",
    "Column 1: atom serial number\n",
    "Column 2: atom name: Carbon/Nitrogen/Oxygen + remoteness indicator + branch indicator\n",
    "          example: CA2 = carbon α in branch 2\n",
    "Column 3: residue type: MET,Methionine)\n",
    "Column 4: chain identifier: A\n",
    "Column 5: residue sequence number\n",
    "Column 6: x\n",
    "Column 7: y\n",
    "Column 8: z\n",
    "Column 9: occupancy\n",
    "Column 10: temperature factor\n",
    "Column 11: element symbol\n",
    "\"\"\""
   ]
  },
  {
   "cell_type": "markdown",
   "metadata": {},
   "source": [
    "### b) Print the total number of hydrogen bonds"
   ]
  },
  {
   "cell_type": "code",
   "execution_count": 38,
   "metadata": {},
   "outputs": [
    {
     "name": "stdout",
     "output_type": "stream",
     "text": [
      "Help on function baker_hubbard in module mdtraj.geometry.hbond:\n",
      "\n",
      "baker_hubbard(traj, freq=0.1, exclude_water=True, periodic=True, sidechain_only=False, distance_cutoff=0.25, angle_cutoff=120)\n",
      "    Identify hydrogen bonds based on cutoffs for the Donor-H...Acceptor\n",
      "    distance and angle.\n",
      "    \n",
      "    The criterion employed is :math:`\\theta > 120` and\n",
      "    :math:`r_\\text{H...Acceptor} < 2.5 A`.\n",
      "    \n",
      "    When donor the donor is 'N' and the acceptor is 'O', this corresponds to\n",
      "    the definition established in [1]_. The donors considered by this method\n",
      "    are NH and OH, and the acceptors considered are O and N.\n",
      "    \n",
      "    Parameters\n",
      "    ----------\n",
      "    traj : md.Trajectory\n",
      "        An mdtraj trajectory. It must contain topology information.\n",
      "    freq : float, default=0.1\n",
      "        Return only hydrogen bonds that occur in greater this fraction of the\n",
      "        frames in the trajectory.\n",
      "    exclude_water : bool, default=True\n",
      "        Exclude solvent molecules from consideration\n",
      "    periodic : bool, default=True\n",
      "        Set to True to calculate displacements and angles across periodic box boundaries.\n",
      "    sidechain_only : bool, default=False\n",
      "        Set to True to only consider sidechain-sidechain interactions.\n",
      "    distance_cutoff : float, default=0.25\n",
      "        Distance cutoff of Donor-H...Acceptor contact in nanometers. \n",
      "        The criterion employed is any contact that is shorter than the distance cutoff.\n",
      "        with an distance_cutoff is accepted.\n",
      "    angle_cutoff : float, default=120\n",
      "        Angle cutoff of the angle theta in degrees. \n",
      "        The criterion employed is any contact with an angle theta greater than the\n",
      "        angle_cutoff is accepted.\n",
      "    \n",
      "    Returns\n",
      "    -------\n",
      "    hbonds : np.array, shape=[n_hbonds, 3], dtype=int\n",
      "        An array containing the indices atoms involved in each of the identified\n",
      "        hydrogen bonds. Each row contains three integer indices, `(d_i, h_i,\n",
      "        a_i)`, such that `d_i` is the index of the donor atom, `h_i` the index\n",
      "        of the hydrogen atom, and `a_i` the index of the acceptor atom involved\n",
      "        in a hydrogen bond which occurs (according to the definition above) in\n",
      "        proportion greater than `freq` of the trajectory.\n",
      "    \n",
      "    Notes\n",
      "    -----\n",
      "    Each hydrogen bond is distinguished for the purpose of this function by the\n",
      "    indices of the donor, hydrogen, and acceptor atoms. This means that, for\n",
      "    example, when an ARG sidechain makes a hydrogen bond with its NH2 group,\n",
      "    you might see what appear like double counting of the h-bonds, since the\n",
      "    hydrogen bond formed via the H_1 and H_2 are counted separately, despite\n",
      "    their \"chemical indistinguishably\"\n",
      "    \n",
      "    Examples\n",
      "    --------\n",
      "    >>> md.baker_hubbard(t)\n",
      "    array([[  0,  10,   8],\n",
      "           [  0,  11,   7],\n",
      "           [ 69,  73,  54],\n",
      "           [ 76,  82,  65],\n",
      "           [119, 131,  89],\n",
      "           [140, 148, 265],\n",
      "           [166, 177, 122],\n",
      "           [181, 188, 231]])\n",
      "    >>> label = lambda hbond : '%s -- %s' % (t.topology.atom(hbond[0]), t.topology.atom(hbond[2]))\n",
      "    >>> for hbond in hbonds:\n",
      "    >>>     print label(hbond)\n",
      "    GLU1-N -- GLU1-OE2\n",
      "    GLU1-N -- GLU1-OE1\n",
      "    GLY6-N -- SER4-O\n",
      "    CYS7-N -- GLY5-O\n",
      "    TYR11-N -- VAL8-O\n",
      "    MET12-N -- LYS20-O\n",
      "    \n",
      "    See Also\n",
      "    --------\n",
      "    kabsch_sander\n",
      "    \n",
      "    References\n",
      "    ----------\n",
      "    .. [1] Baker, E. N., and R. E. Hubbard. \"Hydrogen bonding in globular\n",
      "        proteins.\" Progress in Biophysics and Molecular Biology\n",
      "        44.2 (1984): 97-179.\n",
      "\n"
     ]
    }
   ],
   "source": [
    "help(md.baker_hubbard)"
   ]
  },
  {
   "cell_type": "code",
   "execution_count": 28,
   "metadata": {},
   "outputs": [
    {
     "name": "stdout",
     "output_type": "stream",
     "text": [
      "0: MET1-N -- VAL17-O\n",
      "1: ILE3-N -- LEU15-O\n",
      "2: PHE4-N -- SER65-O\n",
      "3: VAL5-N -- ILE13-O\n",
      "4: LYS6-N -- LEU67-O\n",
      "5: THR7-N -- LYS11-O\n",
      "6: THR9-N -- THR7-OG1\n",
      "7: GLY10-N -- THR7-O\n",
      "8: ILE13-N -- VAL5-O\n",
      "9: LEU15-N -- ILE3-O\n",
      "10: VAL17-N -- MET1-O\n",
      "11: GLU18-N -- ASP21-OD2\n",
      "12: ASP21-N -- GLU18-O\n",
      "13: ILE23-N -- ARG54-O\n",
      "14: GLU24-N -- ASP52-O\n",
      "15: ASN25-N -- THR22-OG1\n",
      "16: ASN25-N -- THR22-O\n",
      "17: VAL26-N -- THR22-O\n",
      "18: LYS27-N -- ILE23-O\n",
      "19: LYS27-NZ -- ASP52-OD2\n",
      "20: ALA28-N -- GLU24-O\n",
      "21: LYS29-N -- ASN25-O\n",
      "22: LYS29-NZ -- GLU16-O\n",
      "23: ILE30-N -- VAL26-O\n",
      "24: GLN31-N -- LYS27-O\n",
      "25: ASP32-N -- ALA28-O\n",
      "26: LYS33-N -- LYS29-O\n",
      "27: GLU34-N -- ILE30-O\n",
      "28: GLY35-N -- GLN31-O\n",
      "29: GLN40-N -- PRO37-O\n",
      "30: GLN41-N -- PRO38-O\n",
      "31: GLN41-NE2 -- ILE36-O\n",
      "32: GLN41-NE2 -- LYS27-O\n",
      "33: ARG42-N -- VAL70-O\n",
      "34: ARG42-NE -- GLN49-NE2\n",
      "35: ILE44-N -- HIS68-O\n",
      "36: PHE45-N -- LYS48-O\n",
      "37: LYS48-N -- PHE45-O\n",
      "38: LEU50-N -- LEU43-O\n",
      "39: GLU51-N -- TYR59-OH\n",
      "40: ARG54-N -- GLU51-O\n",
      "41: THR55-N -- ASP58-OD1\n",
      "42: LEU56-N -- ASP21-O\n",
      "43: SER57-N -- PRO19-O\n",
      "44: ASP58-N -- THR55-OG1\n",
      "45: ASP58-N -- THR55-O\n",
      "46: TYR59-N -- LEU56-O\n",
      "47: ASN60-N -- SER57-O\n",
      "48: ILE61-N -- LEU56-O\n",
      "49: GLU64-N -- GLN2-O\n",
      "50: SER65-N -- GLN62-O\n",
      "51: LEU67-N -- PHE4-O\n",
      "52: HIS68-N -- ILE44-O\n",
      "53: LEU69-N -- LYS6-O\n",
      "54: VAL70-N -- ARG42-O\n",
      "55: ARG72-N -- GLN40-O\n",
      "56: ARG72-NH2 -- GLN41-O\n",
      "Number of hydrogen bonds: 57\n"
     ]
    }
   ],
   "source": [
    "hbonds = md.baker_hubbard(ubiquitin, periodic=False)\n",
    "\n",
    "hbond_atoms = lambda atoms: '%s -- %s' % (ubiquitin.topology.atom(atoms[0]), ubiquitin.topology.atom(atoms[2]))\n",
    "\n",
    "for i, hbond in enumerate(hbonds):\n",
    "    print(f\"{i}: {hbond_atoms(hbond)}\")\n",
    "          \n",
    "print(f\"Number of hydrogen bonds: {len(hbonds)}\")"
   ]
  },
  {
   "cell_type": "code",
   "execution_count": 31,
   "metadata": {},
   "outputs": [
    {
     "data": {
      "text/plain": [
       "array([[   0,    3,  285],\n",
       "       [  36,   37,  254],\n",
       "       [  55,   56, 1044],\n",
       "       [  75,   76,  221],\n",
       "       [  91,   92, 1077],\n",
       "       [ 113,  114,  188],\n",
       "       [ 146,  147,  119],\n",
       "       [ 160,  161,  126],\n",
       "       [ 203,  204,   90],\n",
       "       [ 236,  237,   54],\n",
       "       [ 270,  271,   18],\n",
       "       [ 286,  287,  335],\n",
       "       [ 326,  327,  300],\n",
       "       [ 352,  353,  869],\n",
       "       [ 371,  372,  838],\n",
       "       [ 386,  387,  344],\n",
       "       [ 386,  387,  351],\n",
       "       [ 400,  401,  351],\n",
       "       [ 416,  417,  370],\n",
       "       [ 432,  434,  836],\n",
       "       [ 438,  439,  385],\n",
       "       [ 448,  449,  399],\n",
       "       [ 464,  466,  269],\n",
       "       [ 470,  471,  415],\n",
       "       [ 489,  490,  437],\n",
       "       [ 506,  507,  447],\n",
       "       [ 518,  519,  469],\n",
       "       [ 540,  541,  488],\n",
       "       [ 555,  556,  505],\n",
       "       [ 621,  622,  594],\n",
       "       [ 638,  639,  608],\n",
       "       [ 650,  651,  580],\n",
       "       [ 650,  652,  437],\n",
       "       [ 655,  656, 1129],\n",
       "       [ 668,  669,  788],\n",
       "       [ 698,  699, 1094],\n",
       "       [ 717,  718,  775],\n",
       "       [ 754,  755,  736],\n",
       "       [ 793,  794,  697],\n",
       "       [ 812,  813,  939],\n",
       "       [ 846,  847,  826],\n",
       "       [ 870,  871,  922],\n",
       "       [ 884,  885,  337],\n",
       "       [ 903,  904,  314],\n",
       "       [ 914,  915,  876],\n",
       "       [ 914,  915,  883],\n",
       "       [ 926,  927,  902],\n",
       "       [ 947,  948,  913],\n",
       "       [ 961,  962,  902],\n",
       "       [1019, 1020,   35],\n",
       "       [1034, 1035,  996],\n",
       "       [1059, 1060,   74],\n",
       "       [1078, 1079,  716],\n",
       "       [1095, 1096,  112],\n",
       "       [1114, 1115,  678],\n",
       "       [1149, 1150,  637],\n",
       "       [1168, 1169,  654]])"
      ]
     },
     "execution_count": 31,
     "metadata": {},
     "output_type": "execute_result"
    }
   ],
   "source": [
    "hbonds"
   ]
  },
  {
   "cell_type": "markdown",
   "metadata": {},
   "source": [
    "### c) Compute the number of helical amino acids"
   ]
  },
  {
   "cell_type": "code",
   "execution_count": 35,
   "metadata": {},
   "outputs": [
    {
     "name": "stdout",
     "output_type": "stream",
     "text": [
      "Help on function compute_dssp in module mdtraj.geometry.dssp:\n",
      "\n",
      "compute_dssp(traj, simplified=True)\n",
      "    Compute Dictionary of protein secondary structure (DSSP) secondary structure assignments\n",
      "    \n",
      "    Parameters\n",
      "    ----------\n",
      "    traj : md.Trajectory\n",
      "        A trajectory\n",
      "    simplified : bool, default=True\n",
      "        Use the simplified 3-category assignment scheme. Otherwise the original\n",
      "        8-category scheme is used.\n",
      "    \n",
      "    Returns\n",
      "    -------\n",
      "    assignments : np.ndarray, shape=(n_frames, n_residues), dtype=S1\n",
      "        The assignments is a 2D array of character codes (see below), giving\n",
      "        the secondary structure of each residue in each frame.\n",
      "    \n",
      "    Notes\n",
      "    -----\n",
      "    The DSSP assignment codes are:\n",
      "    \n",
      "       - 'H' : Alpha helix\n",
      "       - 'B' : Residue in isolated beta-bridge\n",
      "       - 'E' : Extended strand, participates in beta ladder\n",
      "       - 'G' : 3-helix (3/10 helix)\n",
      "       - 'I' : 5 helix (pi helix)\n",
      "       - 'T' : hydrogen bonded turn\n",
      "       - 'S' : bend\n",
      "       - ' ' : Loops and irregular elements\n",
      "    \n",
      "    The simplified DSSP codes are:\n",
      "    \n",
      "       - 'H' : Helix. Either of the 'H', 'G', or 'I' codes.\n",
      "       - 'E' : Strand. Either of the 'E', or 'B' codes.\n",
      "       - 'C' : Coil. Either of the 'T', 'S' or ' ' codes.\n",
      "    \n",
      "    A special 'NA' code will be assigned to each 'residue' in the topology which\n",
      "    isn't actually a protein residue (does not contain atoms with the names\n",
      "    'CA', 'N', 'C', 'O'), such as water molecules that are listed as 'residue's\n",
      "    in the topology.\n",
      "    \n",
      "    Our implementation is based on DSSP-2.2.0, written by Maarten L. Hekkelman\n",
      "    and distributed under the Boost Software license.\n",
      "    \n",
      "    References\n",
      "    ----------\n",
      "    .. [1] Kabsch W, Sander C (1983). \"Dictionary of protein secondary\n",
      "       structure: pattern recognition of hydrogen-bonded and geometrical\n",
      "       features\". Biopolymers 22 (12): 2577-637. doi:10.1002/bip.360221211\n",
      "\n"
     ]
    }
   ],
   "source": [
    "help(md.compute_dssp)"
   ]
  },
  {
   "cell_type": "code",
   "execution_count": 39,
   "metadata": {},
   "outputs": [],
   "source": [
    "helical_aa = md.compute_dssp(ubiquitin, simplified=True)"
   ]
  },
  {
   "cell_type": "code",
   "execution_count": 40,
   "metadata": {},
   "outputs": [
    {
     "data": {
      "text/plain": [
       "array([['C', 'E', 'E', 'E', 'E', 'E', 'E', 'C', 'C', 'C', 'C', 'E', 'E',\n",
       "        'E', 'E', 'E', 'C', 'C', 'C', 'C', 'C', 'E', 'H', 'H', 'H', 'H',\n",
       "        'H', 'H', 'H', 'H', 'H', 'H', 'H', 'H', 'C', 'C', 'C', 'H', 'H',\n",
       "        'H', 'E', 'E', 'E', 'E', 'E', 'C', 'C', 'E', 'E', 'C', 'C', 'C',\n",
       "        'C', 'C', 'E', 'C', 'H', 'H', 'H', 'C', 'C', 'C', 'C', 'C', 'C',\n",
       "        'E', 'E', 'E', 'E', 'E', 'E', 'C', 'C', 'C', 'C', 'C', 'NA',\n",
       "        'NA', 'NA', 'NA', 'NA', 'NA', 'NA', 'NA', 'NA', 'NA', 'NA', 'NA',\n",
       "        'NA', 'NA', 'NA', 'NA', 'NA', 'NA', 'NA', 'NA', 'NA', 'NA', 'NA',\n",
       "        'NA', 'NA', 'NA', 'NA', 'NA', 'NA', 'NA', 'NA', 'NA', 'NA', 'NA',\n",
       "        'NA', 'NA', 'NA', 'NA', 'NA', 'NA', 'NA', 'NA', 'NA', 'NA', 'NA',\n",
       "        'NA', 'NA', 'NA', 'NA', 'NA', 'NA', 'NA', 'NA', 'NA', 'NA', 'NA',\n",
       "        'NA', 'NA']], dtype='<U2')"
      ]
     },
     "execution_count": 40,
     "metadata": {},
     "output_type": "execute_result"
    }
   ],
   "source": [
    "helical_aa"
   ]
  },
  {
   "cell_type": "code",
   "execution_count": 45,
   "metadata": {},
   "outputs": [
    {
     "name": "stdout",
     "output_type": "stream",
     "text": [
      "18\n"
     ]
    }
   ],
   "source": [
    "total_helical_aa = np.sum(helical_aa == 'H')\n",
    "print(total_helical_aa)"
   ]
  }
 ],
 "metadata": {
  "kernelspec": {
   "display_name": "Python 3",
   "language": "python",
   "name": "python3"
  },
  "language_info": {
   "codemirror_mode": {
    "name": "ipython",
    "version": 3
   },
   "file_extension": ".py",
   "mimetype": "text/x-python",
   "name": "python",
   "nbconvert_exporter": "python",
   "pygments_lexer": "ipython3",
   "version": "3.8.6"
  }
 },
 "nbformat": 4,
 "nbformat_minor": 4
}
